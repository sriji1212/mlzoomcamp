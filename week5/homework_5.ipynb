{
  "nbformat": 4,
  "nbformat_minor": 0,
  "metadata": {
    "colab": {
      "name": "homework_5.ipynb",
      "provenance": [],
      "authorship_tag": "ABX9TyNzIBn8VjGJuKa5XzLne3qN",
      "include_colab_link": true
    },
    "kernelspec": {
      "name": "python3",
      "display_name": "Python 3"
    },
    "language_info": {
      "name": "python"
    }
  },
  "cells": [
    {
      "cell_type": "markdown",
      "metadata": {
        "id": "view-in-github",
        "colab_type": "text"
      },
      "source": [
        "<a href=\"https://colab.research.google.com/github/sriji1212/mlzoomcamp/blob/main/week5/homework_5.ipynb\" target=\"_parent\"><img src=\"https://colab.research.google.com/assets/colab-badge.svg\" alt=\"Open In Colab\"/></a>"
      ]
    },
    {
      "cell_type": "code",
      "metadata": {
        "colab": {
          "base_uri": "https://localhost:8080/"
        },
        "id": "9uoqVZR_bWgX",
        "outputId": "6b73ddcc-3cb3-4bf9-ebbb-d9d16944d366"
      },
      "source": [
        "!pip install pipenv\n"
      ],
      "execution_count": null,
      "outputs": [
        {
          "output_type": "stream",
          "name": "stdout",
          "text": [
            "Collecting pipenv\n",
            "  Downloading pipenv-2021.5.29-py2.py3-none-any.whl (3.9 MB)\n",
            "\u001b[K     |████████████████████████████████| 3.9 MB 14.2 MB/s \n",
            "\u001b[?25hRequirement already satisfied: certifi in /usr/local/lib/python3.7/dist-packages (from pipenv) (2021.5.30)\n",
            "Collecting virtualenv\n",
            "  Downloading virtualenv-20.8.1-py2.py3-none-any.whl (5.3 MB)\n",
            "\u001b[K     |████████████████████████████████| 5.3 MB 41.2 MB/s \n",
            "\u001b[?25hCollecting virtualenv-clone>=0.2.5\n",
            "  Downloading virtualenv_clone-0.5.7-py3-none-any.whl (6.6 kB)\n",
            "Requirement already satisfied: pip>=18.0 in /usr/local/lib/python3.7/dist-packages (from pipenv) (21.1.3)\n",
            "Requirement already satisfied: setuptools>=36.2.1 in /usr/local/lib/python3.7/dist-packages (from pipenv) (57.4.0)\n",
            "Requirement already satisfied: six<2,>=1.9.0 in /usr/local/lib/python3.7/dist-packages (from virtualenv->pipenv) (1.15.0)\n",
            "Collecting distlib<1,>=0.3.1\n",
            "  Downloading distlib-0.3.3-py2.py3-none-any.whl (496 kB)\n",
            "\u001b[K     |████████████████████████████████| 496 kB 83.7 MB/s \n",
            "\u001b[?25hCollecting backports.entry-points-selectable>=1.0.4\n",
            "  Downloading backports.entry_points_selectable-1.1.0-py2.py3-none-any.whl (6.2 kB)\n",
            "Requirement already satisfied: filelock<4,>=3.0.0 in /usr/local/lib/python3.7/dist-packages (from virtualenv->pipenv) (3.3.0)\n",
            "Collecting platformdirs<3,>=2\n",
            "  Downloading platformdirs-2.4.0-py3-none-any.whl (14 kB)\n",
            "Requirement already satisfied: importlib-metadata>=0.12 in /usr/local/lib/python3.7/dist-packages (from virtualenv->pipenv) (4.8.1)\n",
            "Requirement already satisfied: typing-extensions>=3.6.4 in /usr/local/lib/python3.7/dist-packages (from importlib-metadata>=0.12->virtualenv->pipenv) (3.7.4.3)\n",
            "Requirement already satisfied: zipp>=0.5 in /usr/local/lib/python3.7/dist-packages (from importlib-metadata>=0.12->virtualenv->pipenv) (3.6.0)\n",
            "\u001b[31mERROR: Operation cancelled by user\u001b[0m\n"
          ]
        }
      ]
    },
    {
      "cell_type": "code",
      "metadata": {
        "colab": {
          "base_uri": "https://localhost:8080/"
        },
        "id": "PjIOoaF8cABN",
        "outputId": "9f89095c-912d-408a-f510-cbb4308a45fa"
      },
      "source": [
        "!pipenv --version"
      ],
      "execution_count": null,
      "outputs": [
        {
          "output_type": "stream",
          "name": "stdout",
          "text": [
            "\u001b[39m\u001b[1mpipenv\u001b[39m\u001b[22m, version 2021.5.29\n",
            "\u001b[0m"
          ]
        }
      ]
    },
    {
      "cell_type": "code",
      "metadata": {
        "colab": {
          "base_uri": "https://localhost:8080/"
        },
        "id": "Q6CXPwjFcxX0",
        "outputId": "c090e18e-79e3-4ef8-c595-0af580bc3200"
      },
      "source": [
        "!pipenv install scikit-learn==1.0"
      ],
      "execution_count": null,
      "outputs": [
        {
          "output_type": "stream",
          "name": "stdout",
          "text": [
            "\u001b[39m\u001b[1mInstalling \u001b[32m\u001b[1mscikit-learn==1.0\u001b[39m\u001b[22m...\u001b[39m\u001b[22m\n",
            "\u001b[K\u001b[39m\u001b[1mAdding\u001b[39m\u001b[22m \u001b[32m\u001b[1mscikit-learn\u001b[39m\u001b[22m \u001b[39m\u001b[1mto Pipfile's\u001b[39m\u001b[22m \u001b[33m\u001b[1m[packages]\u001b[39m\u001b[22m\u001b[39m\u001b[1m...\u001b[39m\u001b[22m\n",
            "\u001b[K\u001b[?25h✔ Installation Succeeded\u001b[0m \n",
            "\u001b[39m\u001b[1mPipfile.lock not found, creating...\u001b[39m\u001b[22m\n",
            "\u001b[39m\u001b[22mLocking\u001b[39m\u001b[22m \u001b[33m\u001b[22m[dev-packages]\u001b[39m\u001b[22m \u001b[39m\u001b[22mdependencies...\u001b[39m\u001b[22m\n",
            "\u001b[39m\u001b[22mLocking\u001b[39m\u001b[22m \u001b[33m\u001b[22m[packages]\u001b[39m\u001b[22m \u001b[39m\u001b[22mdependencies...\u001b[39m\u001b[22m\n",
            "\u001b[KBuilding requirements...\n",
            "\u001b[KResolving dependencies...\n",
            "\u001b[K\u001b[?25h\u001b[32m\u001b[22m✔ Success!\u001b[39m\u001b[22m\u001b[0m \n",
            "\u001b[39m\u001b[1mUpdated Pipfile.lock (5dc975)!\u001b[39m\u001b[22m\n",
            "\u001b[39m\u001b[1mInstalling dependencies from Pipfile.lock (5dc975)...\u001b[39m\u001b[22m\n",
            "  🐍   \u001b[32m\u001b[1m▉\u001b[39m\u001b[22m\u001b[32m\u001b[1m▉\u001b[39m\u001b[22m\u001b[32m\u001b[1m▉\u001b[39m\u001b[22m\u001b[32m\u001b[1m▉\u001b[39m\u001b[22m\u001b[32m\u001b[1m▉\u001b[39m\u001b[22m\u001b[32m\u001b[1m▉\u001b[39m\u001b[22m\u001b[32m\u001b[1m▉\u001b[39m\u001b[22m\u001b[32m\u001b[1m▉\u001b[39m\u001b[22m\u001b[32m\u001b[1m▉\u001b[39m\u001b[22m\u001b[32m\u001b[1m▉\u001b[39m\u001b[22m\u001b[32m\u001b[1m▉\u001b[39m\u001b[22m\u001b[32m\u001b[1m▉\u001b[39m\u001b[22m\u001b[32m\u001b[1m▉\u001b[39m\u001b[22m\u001b[32m\u001b[1m▉\u001b[39m\u001b[22m\u001b[32m\u001b[1m▉\u001b[39m\u001b[22m\u001b[32m\u001b[1m▉\u001b[39m\u001b[22m\u001b[32m\u001b[1m▉\u001b[39m\u001b[22m\u001b[32m\u001b[1m▉\u001b[39m\u001b[22m\u001b[32m\u001b[1m▉\u001b[39m\u001b[22m\u001b[32m\u001b[1m▉\u001b[39m\u001b[22m\u001b[32m\u001b[1m▉\u001b[39m\u001b[22m\u001b[32m\u001b[1m▉\u001b[39m\u001b[22m\u001b[32m\u001b[1m▉\u001b[39m\u001b[22m\u001b[32m\u001b[1m▉\u001b[39m\u001b[22m\u001b[32m\u001b[1m▉\u001b[39m\u001b[22m\u001b[32m\u001b[1m▉\u001b[39m\u001b[22m\u001b[32m\u001b[1m▉\u001b[39m\u001b[22m\u001b[32m\u001b[1m▉\u001b[39m\u001b[22m\u001b[32m\u001b[1m▉\u001b[39m\u001b[22m\u001b[32m\u001b[1m▉\u001b[39m\u001b[22m\u001b[32m\u001b[1m▉\u001b[39m\u001b[22m\u001b[32m\u001b[1m▉\u001b[39m\u001b[22m 0/0 — \u001b[30m\u001b[22m00:00:00\u001b[39m\u001b[22m\n",
            "To activate this project's virtualenv, run \u001b[33m\u001b[22mpipenv shell\u001b[39m\u001b[22m.\n",
            "Alternatively, run a command inside the virtualenv with \u001b[33m\u001b[22mpipenv run\u001b[39m\u001b[22m.\n",
            "\u001b[0m"
          ]
        }
      ]
    },
    {
      "cell_type": "code",
      "metadata": {
        "colab": {
          "base_uri": "https://localhost:8080/"
        },
        "id": "lVRZYN1PdYKG",
        "outputId": "cd0598a8-9d48-483c-d5fa-7790c15addda"
      },
      "source": [
        "!cat Pipfile.lock"
      ],
      "execution_count": null,
      "outputs": [
        {
          "output_type": "stream",
          "name": "stdout",
          "text": [
            "{\n",
            "    \"_meta\": {\n",
            "        \"hash\": {\n",
            "            \"sha256\": \"0df8cab25b167aa29fe87765fc52f88a8c8cae9ba59c884302df0b78a45dc975\"\n",
            "        },\n",
            "        \"pipfile-spec\": 6,\n",
            "        \"requires\": {\n",
            "            \"python_version\": \"3.7\"\n",
            "        },\n",
            "        \"sources\": [\n",
            "            {\n",
            "                \"name\": \"pypi\",\n",
            "                \"url\": \"https://pypi.org/simple\",\n",
            "                \"verify_ssl\": true\n",
            "            }\n",
            "        ]\n",
            "    },\n",
            "    \"default\": {\n",
            "        \"joblib\": {\n",
            "            \"hashes\": [\n",
            "                \"sha256:4158fcecd13733f8be669be0683b96ebdbbd38d23559f54dca7205aea1bf1e35\",\n",
            "                \"sha256:f21f109b3c7ff9d95f8387f752d0d9c34a02aa2f7060c2135f465da0e5160ff6\"\n",
            "            ],\n",
            "            \"markers\": \"python_version >= '3.6'\",\n",
            "            \"version\": \"==1.1.0\"\n",
            "        },\n",
            "        \"numpy\": {\n",
            "            \"hashes\": [\n",
            "                \"sha256:09858463db6dd9f78b2a1a05c93f3b33d4f65975771e90d2cf7aadb7c2f66edf\",\n",
            "                \"sha256:209666ce9d4a817e8a4597cd475b71b4878a85fa4b8db41d79fdb4fdee01dde2\",\n",
            "                \"sha256:298156f4d3d46815eaf0fcf0a03f9625fc7631692bd1ad851517ab93c3168fc6\",\n",
            "                \"sha256:30fc68307c0155d2a75ad19844224be0f2c6f06572d958db4e2053f816b859ad\",\n",
            "                \"sha256:423216d8afc5923b15df86037c6053bf030d15cc9e3224206ef868c2d63dd6dc\",\n",
            "                \"sha256:426a00b68b0d21f2deb2ace3c6d677e611ad5a612d2c76494e24a562a930c254\",\n",
            "                \"sha256:466e682264b14982012887e90346d33435c984b7fead7b85e634903795c8fdb0\",\n",
            "                \"sha256:51a7b9db0a2941434cd930dacaafe0fc9da8f3d6157f9d12f761bbde93f46218\",\n",
            "                \"sha256:52a664323273c08f3b473548bf87c8145b7513afd63e4ebba8496ecd3853df13\",\n",
            "                \"sha256:550564024dc5ceee9421a86fc0fb378aa9d222d4d0f858f6669eff7410c89bef\",\n",
            "                \"sha256:5de64950137f3a50b76ce93556db392e8f1f954c2d8207f78a92d1f79aa9f737\",\n",
            "                \"sha256:640c1ccfd56724f2955c237b6ccce2e5b8607c3bc1cc51d3933b8c48d1da3723\",\n",
            "                \"sha256:7fdc7689daf3b845934d67cb221ba8d250fdca20ac0334fea32f7091b93f00d3\",\n",
            "                \"sha256:805459ad8baaf815883d0d6f86e45b3b0b67d823a8f3fa39b1ed9c45eaf5edf1\",\n",
            "                \"sha256:92a0ab128b07799dd5b9077a9af075a63467d03ebac6f8a93e6440abfea4120d\",\n",
            "                \"sha256:9f2dc79c093f6c5113718d3d90c283f11463d77daa4e83aeeac088ec6a0bda52\",\n",
            "                \"sha256:a5109345f5ce7ddb3840f5970de71c34a0ff7fceb133c9441283bb8250f532a3\",\n",
            "                \"sha256:a55e4d81c4260386f71d22294795c87609164e22b28ba0d435850fbdf82fc0c5\",\n",
            "                \"sha256:a9da45b748caad72ea4a4ed57e9cd382089f33c5ec330a804eb420a496fa760f\",\n",
            "                \"sha256:b160b9a99ecc6559d9e6d461b95c8eec21461b332f80267ad2c10394b9503496\",\n",
            "                \"sha256:b342064e647d099ca765f19672696ad50c953cac95b566af1492fd142283580f\",\n",
            "                \"sha256:b5e8590b9245803c849e09bae070a8e1ff444f45e3f0bed558dd722119eea724\",\n",
            "                \"sha256:bf75d5825ef47aa51d669b03ce635ecb84d69311e05eccea083f31c7570c9931\",\n",
            "                \"sha256:c01b59b33c7c3ba90744f2c695be571a3bd40ab2ba7f3d169ffa6db3cfba614f\",\n",
            "                \"sha256:d96a6a7d74af56feb11e9a443150216578ea07b7450f7c05df40eec90af7f4a7\",\n",
            "                \"sha256:dd0e3651d210068d13e18503d75aaa45656eef51ef0b261f891788589db2cc38\",\n",
            "                \"sha256:e167b9805de54367dcb2043519382be541117503ce99e3291cc9b41ca0a83557\",\n",
            "                \"sha256:e42029e184008a5fd3d819323345e25e2337b0ac7f5c135b7623308530209d57\",\n",
            "                \"sha256:f545c082eeb09ae678dd451a1b1dbf17babd8a0d7adea02897a76e639afca310\",\n",
            "                \"sha256:fde50062d67d805bc96f1a9ecc0d37bfc2a8f02b937d2c50824d186aa91f2419\"\n",
            "            ],\n",
            "            \"markers\": \"python_version < '3.11' and python_version >= '3.7'\",\n",
            "            \"version\": \"==1.21.2\"\n",
            "        },\n",
            "        \"scikit-learn\": {\n",
            "            \"hashes\": [\n",
            "                \"sha256:121f78d6564000dc5e968394f45aac87981fcaaf2be40cfcd8f07b2baa1e1829\",\n",
            "                \"sha256:14bd46639b2149b3ed613adc095511313a0db62ba9fa31117bdcb5c23722e93b\",\n",
            "                \"sha256:190c178028f9073d9f61cd30a19c685993236b9b2df884f16608cbb3ff03800b\",\n",
            "                \"sha256:29559c207616604bbaa664bf98eed81b32d9f3d4c975065a206a5e2b268fe784\",\n",
            "                \"sha256:4cb5ccb2b63c617ead48c6d92001273ad1b0e8e2bd4a4857edb58749a88b6d82\",\n",
            "                \"sha256:555f4b4c10d3bef9e3cda63c3b45670a091fb50328fccd54948cd8a7cf887198\",\n",
            "                \"sha256:56ab58978c7aa181856a42f8f491be953b755105040aeb070ebd6b180896f146\",\n",
            "                \"sha256:663a6aaad92e5690b03d931f849016c9718beaa654e9a15f08bfcac750241036\",\n",
            "                \"sha256:6a056637f7f9876e4c9db9b5434d340e0c97e25f00c4c04458f0ff906e82488e\",\n",
            "                \"sha256:6d8bdacde73f5f484325179f466ce2011f79360e9a152100179c3dafb88f2a35\",\n",
            "                \"sha256:776800194e757cd212b47cd05907e0eb67a554ad333fe76776060dbb729e3427\",\n",
            "                \"sha256:83ab0d0447b8de8450c554952a8399791544605caf274fc3c904e247e1584ced\",\n",
            "                \"sha256:9d8caf7fa58791b6b26e912e44d5056818b7bb3142bfa7806f54bde47c189078\",\n",
            "                \"sha256:9f103cd6d7e15fa537a844c1a85c9beeeee8ec38357287c9efd3ee4bb8354e1d\",\n",
            "                \"sha256:af94b89a8f7759603c696b320e86e57f4b2bb4911e02bf2bae33c714ac498fb8\",\n",
            "                \"sha256:b1df4d1151dd6d945324583125e6449bb74ec7cd91ffd7f850015cdb75f151b5\",\n",
            "                \"sha256:b9f10b85dcd9ce80f738e33f55a32b3a538b47409dc1a59eec30b46ea96759db\",\n",
            "                \"sha256:c1f710bba72925aa96e60828df5d2a4872f5d4a4ad7bb4a4c9a6a41c9ce9a198\",\n",
            "                \"sha256:c9c329ec195cdea6a4dee3cebdb1602f4e0f69351c63bc58a4812f3c8a9f4f2d\",\n",
            "                \"sha256:e35135657b7103a70298cf557e4fad06af97607cb0780d8f44a2f91ca7769458\",\n",
            "                \"sha256:e8a6074f7d505bbfd30bcc1c57dc7cb150cc9c021459c2e2729854be1aefb5f7\",\n",
            "                \"sha256:eed33b7ca2bf3fdd585339db42838ab0b641952e064564bff6e9a10573ea665c\",\n",
            "                \"sha256:efeac34d0ce6bf9404d268545867cbde9d6ecadd0e9bd7e6b468e5f4e2349875\",\n",
            "                \"sha256:f7053801ceb7c51ce674c6a8e37a18fcc221c292f66ef7da84744ecf13b4a0c0\",\n",
            "                \"sha256:f8aecb3edc443e5625725ae1ef8f500fa78ce7cb0e864115864bb9f234d18290\"\n",
            "            ],\n",
            "            \"index\": \"pypi\",\n",
            "            \"version\": \"==1.0\"\n",
            "        },\n",
            "        \"scipy\": {\n",
            "            \"hashes\": [\n",
            "                \"sha256:2a0eeaab01258e0870c4022a6cd329aef3b7c6c2b606bd7cf7bb2ba9820ae561\",\n",
            "                \"sha256:3304bd5bc32e00954ac4b3f4cc382ca8824719bf348aacbec6347337d6b125fe\",\n",
            "                \"sha256:3f52470e0548cdb74fb8ddf06773ffdcca7c97550f903b1c51312ec19243a7f7\",\n",
            "                \"sha256:4729b41a4cdaf4cd011aeac816b532f990bdf97710cef59149d3e293115cf467\",\n",
            "                \"sha256:4ee952f39a4a4c7ba775a32b664b1f4b74818548b65f765987adc14bb78f5802\",\n",
            "                \"sha256:611f9cb459d0707dd8e4de0c96f86e93f61aac7475fcb225e9ec71fecdc5cebf\",\n",
            "                \"sha256:6b47d5fa7ea651054362561a28b1ccc8da9368a39514c1bbf6c0977a1c376764\",\n",
            "                \"sha256:71cfc96297617eab911e22216e8a8597703202e95636d9406df9af5c2ac99a2b\",\n",
            "                \"sha256:787749110a23502031fb1643c55a2236c99c6b989cca703ea2114d65e21728ef\",\n",
            "                \"sha256:90c07ba5f34f33299a428b0d4fa24c30d2ceba44d63f8385b2b05be460819fcb\",\n",
            "                \"sha256:a496b42dbcd04ea9924f5e92be63af3d8e0f43a274b769bfaca0a297327d54ee\",\n",
            "                \"sha256:bc61e3e5ff92d2f32bb263621d54a9cff5e3f7c420af3d1fa122ce2529de2bd9\",\n",
            "                \"sha256:c9951e3746b68974125e5e3445008a4163dd6d20ae0bbdae22b38cb8951dc11b\",\n",
            "                \"sha256:d1388fbac9dd591ea630da75c455f4cc637a7ca5ecb31a6b6cef430914749cde\",\n",
            "                \"sha256:d13f31457f2216e5705304d9f28e2826edf75487410a57aa99263fa4ffd792c2\",\n",
            "                \"sha256:d648aa85dd5074b1ed83008ae987c3fbb53d68af619fce1dee231f4d8bd40e2f\",\n",
            "                \"sha256:da9c6b336e540def0b7fd65603da8abeb306c5fc9a5f4238665cbbb5ff95cf58\",\n",
            "                \"sha256:e101bceeb9e65a90dadbc5ca31283403a2d4667b9c178db29109750568e8d112\",\n",
            "                \"sha256:efdd3825d54c58df2cc394366ca4b9166cf940a0ebddeb87b6c10053deb625ea\"\n",
            "            ],\n",
            "            \"markers\": \"python_version < '3.10' and python_version >= '3.7'\",\n",
            "            \"version\": \"==1.7.1\"\n",
            "        },\n",
            "        \"threadpoolctl\": {\n",
            "            \"hashes\": [\n",
            "                \"sha256:4fade5b3b48ae4b1c30f200b28f39180371104fccc642e039e0f2435ec8cc211\",\n",
            "                \"sha256:d03115321233d0be715f0d3a5ad1d6c065fe425ddc2d671ca8e45e9fd5d7a52a\"\n",
            "            ],\n",
            "            \"markers\": \"python_version >= '3.6'\",\n",
            "            \"version\": \"==3.0.0\"\n",
            "        }\n",
            "    },\n",
            "    \"develop\": {}\n",
            "}\n"
          ]
        }
      ]
    },
    {
      "cell_type": "code",
      "metadata": {
        "colab": {
          "base_uri": "https://localhost:8080/"
        },
        "id": "i6gKamGxcQlq",
        "outputId": "15982a51-2d60-4eae-a4d6-cc9e90b37312"
      },
      "source": [
        "PREFIX=\"https://raw.githubusercontent.com/alexeygrigorev/mlbookcamp-code/master/course-zoomcamp/05-deployment/homework\"\n",
        "!wget $PREFIX/model1.bin\n",
        "!wget $PREFIX/dv.bin"
      ],
      "execution_count": null,
      "outputs": [
        {
          "output_type": "stream",
          "name": "stdout",
          "text": [
            "--2021-10-10 14:07:18--  https://raw.githubusercontent.com/alexeygrigorev/mlbookcamp-code/master/course-zoomcamp/05-deployment/homework/model1.bin\n",
            "Resolving raw.githubusercontent.com (raw.githubusercontent.com)... 185.199.108.133, 185.199.109.133, 185.199.110.133, ...\n",
            "Connecting to raw.githubusercontent.com (raw.githubusercontent.com)|185.199.108.133|:443... connected.\n",
            "HTTP request sent, awaiting response... 200 OK\n",
            "Length: 746 [application/octet-stream]\n",
            "Saving to: ‘model1.bin’\n",
            "\n",
            "model1.bin          100%[===================>]     746  --.-KB/s    in 0s      \n",
            "\n",
            "2021-10-10 14:07:18 (38.6 MB/s) - ‘model1.bin’ saved [746/746]\n",
            "\n",
            "--2021-10-10 14:07:18--  https://raw.githubusercontent.com/alexeygrigorev/mlbookcamp-code/master/course-zoomcamp/05-deployment/homework/dv.bin\n",
            "Resolving raw.githubusercontent.com (raw.githubusercontent.com)... 185.199.108.133, 185.199.110.133, 185.199.111.133, ...\n",
            "Connecting to raw.githubusercontent.com (raw.githubusercontent.com)|185.199.108.133|:443... connected.\n",
            "HTTP request sent, awaiting response... 200 OK\n",
            "Length: 323 [application/octet-stream]\n",
            "Saving to: ‘dv.bin’\n",
            "\n",
            "dv.bin              100%[===================>]     323  --.-KB/s    in 0s      \n",
            "\n",
            "2021-10-10 14:07:19 (4.87 MB/s) - ‘dv.bin’ saved [323/323]\n",
            "\n"
          ]
        }
      ]
    },
    {
      "cell_type": "code",
      "metadata": {
        "colab": {
          "base_uri": "https://localhost:8080/"
        },
        "id": "KWw-kv2xeent",
        "outputId": "cf124402-a4e3-48c1-da49-5938f74bff7f"
      },
      "source": [
        "!wget 'https://raw.githubusercontent.com/alexeygrigorev/mlbookcamp-code/master/course-zoomcamp/05-deployment/code/predict.py'\n",
        "!wget 'https://raw.githubusercontent.com/alexeygrigorev/mlbookcamp-code/master/course-zoomcamp/05-deployment/code/predict-test.py'"
      ],
      "execution_count": null,
      "outputs": [
        {
          "output_type": "stream",
          "name": "stdout",
          "text": [
            "--2021-10-10 09:26:35--  https://raw.githubusercontent.com/alexeygrigorev/mlbookcamp-code/master/course-zoomcamp/05-deployment/code/predict.py\n",
            "Resolving raw.githubusercontent.com (raw.githubusercontent.com)... 185.199.110.133, 185.199.111.133, 185.199.109.133, ...\n",
            "Connecting to raw.githubusercontent.com (raw.githubusercontent.com)|185.199.110.133|:443... connected.\n",
            "HTTP request sent, awaiting response... 200 OK\n",
            "Length: 644 [text/plain]\n",
            "Saving to: ‘predict.py.1’\n",
            "\n",
            "\rpredict.py.1          0%[                    ]       0  --.-KB/s               \rpredict.py.1        100%[===================>]     644  --.-KB/s    in 0s      \n",
            "\n",
            "2021-10-10 09:26:35 (25.3 MB/s) - ‘predict.py.1’ saved [644/644]\n",
            "\n",
            "--2021-10-10 09:26:35--  https://raw.githubusercontent.com/alexeygrigorev/mlbookcamp-code/master/course-zoomcamp/05-deployment/code/predict-test.py\n",
            "Resolving raw.githubusercontent.com (raw.githubusercontent.com)... 185.199.108.133, 185.199.109.133, 185.199.110.133, ...\n",
            "Connecting to raw.githubusercontent.com (raw.githubusercontent.com)|185.199.108.133|:443... connected.\n",
            "HTTP request sent, awaiting response... 200 OK\n",
            "Length: 892 [text/plain]\n",
            "Saving to: ‘predict-test.py’\n",
            "\n",
            "predict-test.py     100%[===================>]     892  --.-KB/s    in 0s      \n",
            "\n",
            "2021-10-10 09:26:35 (33.7 MB/s) - ‘predict-test.py’ saved [892/892]\n",
            "\n"
          ]
        }
      ]
    },
    {
      "cell_type": "code",
      "metadata": {
        "colab": {
          "base_uri": "https://localhost:8080/"
        },
        "id": "f64Y7ksYiM8L",
        "outputId": "41c09be1-e5b7-4f04-895a-04006b6cb8c9"
      },
      "source": [
        "import pickle\n",
        "\n",
        "\n",
        "\n",
        "model_file = 'model1.bin'\n",
        "dv_file = 'dv.bin'\n",
        "\n",
        "with open(model_file, 'rb') as f_in:\n",
        "    model = pickle.load(f_in)\n",
        "\n",
        "with open(dv_file, 'rb') as f2_in:\n",
        "    dv = pickle.load(f2_in)\n",
        "\n",
        "\n",
        "def predict(customer_json):\n",
        "    customer = customer_json\n",
        "\n",
        "    X = dv.transform([customer])\n",
        "    y_pred = model.predict_proba(X)[0, 1]\n",
        "    churn = y_pred >= 0.5\n",
        "\n",
        "    result = {\n",
        "        'churn_probability': float(y_pred),\n",
        "        'churn': bool(churn)\n",
        "    }\n",
        "\n",
        "    return result"
      ],
      "execution_count": null,
      "outputs": [
        {
          "output_type": "stream",
          "name": "stderr",
          "text": [
            "/usr/local/lib/python3.7/dist-packages/sklearn/base.py:318: UserWarning: Trying to unpickle estimator LogisticRegression from version 1.0 when using version 0.22.2.post1. This might lead to breaking code or invalid results. Use at your own risk.\n",
            "  UserWarning)\n",
            "/usr/local/lib/python3.7/dist-packages/sklearn/base.py:318: UserWarning: Trying to unpickle estimator DictVectorizer from version 1.0 when using version 0.22.2.post1. This might lead to breaking code or invalid results. Use at your own risk.\n",
            "  UserWarning)\n"
          ]
        }
      ]
    },
    {
      "cell_type": "code",
      "metadata": {
        "colab": {
          "base_uri": "https://localhost:8080/"
        },
        "id": "glAsXtxEjiNv",
        "outputId": "a554ea61-9857-4c72-f43b-2788711ae2ed"
      },
      "source": [
        "customer_json = {\"contract\": \"two_year\", \"tenure\": 12, \"monthlycharges\": 19.7}\n",
        "predict(customer_json)"
      ],
      "execution_count": null,
      "outputs": [
        {
          "output_type": "execute_result",
          "data": {
            "text/plain": [
              "{'churn': False, 'churn_probability': 0.11549580587832894}"
            ]
          },
          "metadata": {},
          "execution_count": 20
        }
      ]
    },
    {
      "cell_type": "code",
      "metadata": {
        "colab": {
          "base_uri": "https://localhost:8080/"
        },
        "id": "-JUVFqA0kFbt",
        "outputId": "5677169b-4e4b-45c9-b6b6-cf24e833c5ac"
      },
      "source": [
        "customer_json = {\"contract\": \"two_year\", \"tenure\": 1, \"monthlycharges\": 10}\n",
        "predict(customer_json)"
      ],
      "execution_count": null,
      "outputs": [
        {
          "output_type": "execute_result",
          "data": {
            "text/plain": [
              "{'churn': True, 'churn_probability': 0.9988892771007961}"
            ]
          },
          "metadata": {},
          "execution_count": 22
        }
      ]
    },
    {
      "cell_type": "code",
      "metadata": {
        "id": "GgBAnqcUh-aK",
        "colab": {
          "base_uri": "https://localhost:8080/"
        },
        "outputId": "e0b390b8-c2dd-4c75-f423-950222ff9c44"
      },
      "source": [
        "customer_json = {\"contract\": \"two_year\", \"tenure\": 12, \"monthlycharges\": 10}\n",
        "predict(customer_json)"
      ],
      "execution_count": null,
      "outputs": [
        {
          "output_type": "execute_result",
          "data": {
            "text/plain": [
              "{'churn': False, 'churn_probability': 0.32940789808151005}"
            ]
          },
          "metadata": {},
          "execution_count": 4
        }
      ]
    },
    {
      "cell_type": "code",
      "metadata": {
        "colab": {
          "base_uri": "https://localhost:8080/"
        },
        "id": "_-awnYEPkSQ-",
        "outputId": "b71348b2-2338-48c0-9eeb-239bfded406e"
      },
      "source": [
        "!sudo apt-get install docker"
      ],
      "execution_count": null,
      "outputs": [
        {
          "output_type": "stream",
          "name": "stdout",
          "text": [
            "Reading package lists... Done\n",
            "Building dependency tree       \n",
            "Reading state information... Done\n",
            "The following NEW packages will be installed:\n",
            "  docker\n",
            "0 upgraded, 1 newly installed, 0 to remove and 37 not upgraded.\n",
            "Need to get 12.9 kB of archives.\n",
            "After this operation, 45.1 kB of additional disk space will be used.\n",
            "Get:1 http://archive.ubuntu.com/ubuntu bionic/universe amd64 docker amd64 1.5-1build1 [12.9 kB]\n",
            "Fetched 12.9 kB in 1s (18.4 kB/s)\n",
            "debconf: unable to initialize frontend: Dialog\n",
            "debconf: (No usable dialog-like program is installed, so the dialog based frontend cannot be used. at /usr/share/perl5/Debconf/FrontEnd/Dialog.pm line 76, <> line 1.)\n",
            "debconf: falling back to frontend: Readline\n",
            "debconf: unable to initialize frontend: Readline\n",
            "debconf: (This frontend requires a controlling tty.)\n",
            "debconf: falling back to frontend: Teletype\n",
            "dpkg-preconfigure: unable to re-open stdin: \n",
            "Selecting previously unselected package docker.\n",
            "(Reading database ... 155047 files and directories currently installed.)\n",
            "Preparing to unpack .../docker_1.5-1build1_amd64.deb ...\n",
            "Unpacking docker (1.5-1build1) ...\n",
            "Setting up docker (1.5-1build1) ...\n",
            "Processing triggers for man-db (2.8.3-2ubuntu0.1) ...\n"
          ]
        }
      ]
    },
    {
      "cell_type": "code",
      "metadata": {
        "id": "7Ofl3reRkeL9",
        "colab": {
          "base_uri": "https://localhost:8080/"
        },
        "outputId": "9b25ae4a-82c7-4e70-b982-3e18031bfe75"
      },
      "source": [
        "!docker ps"
      ],
      "execution_count": null,
      "outputs": [
        {
          "output_type": "stream",
          "name": "stdout",
          "text": [
            "/bin/bash: docker: command not found\n"
          ]
        }
      ]
    }
  ]
}